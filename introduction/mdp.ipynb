{
 "cells": [
  {
   "cell_type": "markdown",
   "metadata": {},
   "source": [
    "## 增强学习 Case\n",
    "\n",
    "* by ronfe"
   ]
  },
  {
   "cell_type": "markdown",
   "metadata": {},
   "source": [
    "### 目录\n",
    "\n",
    "* 简述\n",
    "* 情景设定\n",
    "* Demo\n",
    "* 问题\n",
    "* Q&A"
   ]
  },
  {
   "cell_type": "markdown",
   "metadata": {},
   "source": [
    "### 简述\n",
    "\n",
    "* 内容\n",
    "    - 一个情景化的示例（学生复习&考试），我们可以如何利用手中的资源帮助其提高成绩\n",
    "* 为什么有这个？\n",
    "    - 一时兴起 / just 4 fun\n",
    "    - 介绍RL解决问题的思路和方式\n",
    "    - 介绍复杂性科学\n",
    "    - 考虑我们可能遇到的“非典型”MDP问题及解决"
   ]
  },
  {
   "cell_type": "markdown",
   "metadata": {},
   "source": [
    "### 情景设定\n",
    "\n",
    "* 一个准备用洋葱数学开始学习/复习的学生$u$\n",
    "    - 能力$c_{u}^{i}$：[0,1] $$c_{u}^{i} = \\frac{\\sum_{t \\in i }(d(t) * E_{u}^{t})}{\\sum_{t \\in i } d(t)} + \\epsilon$$\n",
    "    - 知识点 $t$ 掌握难度函数 $d(t)$\n",
    "        - 知识点类型（A-D : 1-4）\n",
    "        - 知识点所在主题顺序、知识点顺序（比例）\n",
    "        - 目标层样本数据正确率\n",
    "    - 知识点 $t$ 掌握度$E_{u}^{t}$：键值对，key为知识点ID，值[0,1]，初始为0\n",
    "    - 焦虑值 $Anx$: 初始为0\n",
    "    \n",
    "* 时间模型\n",
    "    - 共有 $d$ 日，每日可安排 $k$ 个Actions\n",
    "    - 已经过天数 > $d$ 时，学习结束，进行考试\n",
    "    - 每日过后，所有掌握度出现下降（遗忘函数）\n",
    "        - ![Ebbinghaus](https://www.explorethefaith.com/concrete5/files/4013/7683/4235/Ebbinghaus_Forgetting_Curve.jpg)\n",
    "    - 每日过后，$Anx$增加值=未掌握（掌握值为0）知识点比例 * 已经过天数比例\n",
    "    - 焦虑效应阈值：\n",
    "        - 一组向量，当焦虑值大于等于某个值时， $k$ -1，直至 $k$ = 0\n",
    "    - 当 $k$ = 0时，焦虑值每天以 1 - $Anx$增加值 减少\n",
    "    \n",
    "   \n",
    "* 学习知识点$t$（Action）\n",
    "    - 成功概率 $$p(Success|u, t) = (1-d(t))\\times c_{u}^{t} $$\n",
    "    - 失败概率 $$p(Fail|u, t) = 1 - p(Success|u, t)$$\n",
    "\n",
    "* 考试（目标模型）\n",
    "    - 随机抽取50个知识点（A类15个，B类25个，C-D类10个）\n",
    "    - 做对概率 $E_{u}^{t}$"
   ]
  },
  {
   "cell_type": "code",
   "execution_count": null,
   "metadata": {
    "collapsed": true
   },
   "outputs": [],
   "source": []
  }
 ],
 "metadata": {
  "kernelspec": {
   "display_name": "Python 3",
   "language": "python",
   "name": "python3"
  },
  "language_info": {
   "codemirror_mode": {
    "name": "ipython",
    "version": 3
   },
   "file_extension": ".py",
   "mimetype": "text/x-python",
   "name": "python",
   "nbconvert_exporter": "python",
   "pygments_lexer": "ipython3",
   "version": "3.5.1"
  }
 },
 "nbformat": 4,
 "nbformat_minor": 0
}